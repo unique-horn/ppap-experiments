{
 "cells": [
  {
   "cell_type": "code",
   "execution_count": 100,
   "metadata": {
    "collapsed": false
   },
   "outputs": [
    {
     "name": "stdout",
     "output_type": "stream",
     "text": [
      "The autoreload extension is already loaded. To reload it, use:\n",
      "  %reload_ext autoreload\n"
     ]
    }
   ],
   "source": [
    "%matplotlib inline\n",
    "%load_ext autoreload\n",
    "%autoreload 2\n",
    "import matplotlib.pyplot as plt\n",
    "from matplotlib import animation\n",
    "import numpy as np"
   ]
  },
  {
   "cell_type": "code",
   "execution_count": 20,
   "metadata": {
    "collapsed": false
   },
   "outputs": [],
   "source": [
    "from ppap import utils, layers\n",
    "from keras.models import Sequential\n",
    "from keras.layers import Dense, Activation\n",
    "from keras import backend as K"
   ]
  },
  {
   "cell_type": "markdown",
   "metadata": {},
   "source": [
    "### Input data"
   ]
  },
  {
   "cell_type": "code",
   "execution_count": 154,
   "metadata": {
    "collapsed": false
   },
   "outputs": [],
   "source": [
    "n = 200\n",
    "r, c = 100, 100\n",
    "p_spans = [10, 5, 5] # batch, r, c\n",
    "g_span = 5\n",
    "\n",
    "X, Y, R = utils.perlin_batch(n, r, c, p_spans, g_span)"
   ]
  },
  {
   "cell_type": "code",
   "execution_count": 155,
   "metadata": {
    "collapsed": false
   },
   "outputs": [],
   "source": [
    "n_pix = n * r * c\n",
    "IN = np.vstack([X.reshape(n_pix), Y.reshape(n_pix), R.reshape(n_pix)]).T"
   ]
  },
  {
   "cell_type": "markdown",
   "metadata": {},
   "source": [
    "### Model"
   ]
  },
  {
   "cell_type": "code",
   "execution_count": 156,
   "metadata": {
    "collapsed": true
   },
   "outputs": [],
   "source": [
    "model = Sequential()\n",
    "model.add(Dense(5, input_dim=3)) # Takes x, y, r\n",
    "model.add(Activation(K.sin))\n",
    "model.add(Dense(5))\n",
    "model.add(Activation(K.sin))\n",
    "model.add(Dense(5))\n",
    "model.add(Activation(\"relu\"))\n",
    "model.add(Dense(5))\n",
    "model.add(Activation(\"tanh\"))\n",
    "model.add(Dense(3))\n",
    "model.add(Activation(\"sigmoid\")) # Give RGB"
   ]
  },
  {
   "cell_type": "code",
   "execution_count": 157,
   "metadata": {
    "collapsed": true
   },
   "outputs": [],
   "source": [
    "OUT = model.predict(IN)\n",
    "R, G, B = OUT[:, 0].reshape((n, r, c)), OUT[:, 1].reshape((n, r, c)), OUT[:, 2].reshape((n, r, c))"
   ]
  },
  {
   "cell_type": "code",
   "execution_count": 158,
   "metadata": {
    "collapsed": false
   },
   "outputs": [],
   "source": [
    "images = np.array([R, G, B]).swapaxes(0, 1)"
   ]
  },
  {
   "cell_type": "code",
   "execution_count": 159,
   "metadata": {
    "collapsed": false
   },
   "outputs": [
    {
     "data": {
      "image/png": "[encoded data removed]",
      "text/plain": [
       "<matplotlib.figure.Figure at 0x7f2e8d0e6908>"
      ]
     },
     "metadata": {},
     "output_type": "display_data"
    }
   ],
   "source": [
    "fig = plt.figure()\n",
    "ax = plt.axes()\n",
    "\n",
    "im = plt.imshow(images[0].T)\n",
    "\n",
    "def init():\n",
    "    im.set_data(images[0].T)\n",
    "    return [im]\n",
    "\n",
    "def animate(i):\n",
    "    im.set_array(images[i].T)\n",
    "    return [im]\n",
    "\n",
    "anim = animation.FuncAnimation(fig, animate, init_func=init,\n",
    "                               frames=n, interval=20, blit=True)\n",
    "\n",
    "anim.save('basic_animation.mp4', fps=20, extra_args=['-vcodec', 'libx264']);"
   ]
  },
  {
   "cell_type": "code",
   "execution_count": null,
   "metadata": {
    "collapsed": true
   },
   "outputs": [],
   "source": []
  }
 ],
 "metadata": {
  "anaconda-cloud": {},
  "kernelspec": {
   "display_name": "Python [conda root]",
   "language": "python",
   "name": "conda-root-py"
  },
  "language_info": {
   "codemirror_mode": {
    "name": "ipython",
    "version": 3
   },
   "file_extension": ".py",
   "mimetype": "text/x-python",
   "name": "python",
   "nbconvert_exporter": "python",
   "pygments_lexer": "ipython3",
   "version": "3.5.2"
  }
 },
 "nbformat": 4,
 "nbformat_minor": 1
}
